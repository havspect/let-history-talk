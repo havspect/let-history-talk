{
 "cells": [
  {
   "cell_type": "code",
   "execution_count": 3,
   "metadata": {},
   "outputs": [
    {
     "data": {
      "text/plain": [
       "True"
      ]
     },
     "execution_count": 3,
     "metadata": {},
     "output_type": "execute_result"
    }
   ],
   "source": [
    "from dotenv import load_dotenv\n",
    "from llama_index.core import ChatPromptTemplate\n",
    "from llama_index.core.llms import ChatMessage, MessageRole\n",
    "from llama_index.llms.openai import OpenAI\n",
    "\n",
    "from let_history_talk.models import PodcastResponse\n",
    "\n",
    "load_dotenv()"
   ]
  },
  {
   "cell_type": "code",
   "execution_count": 84,
   "metadata": {},
   "outputs": [],
   "source": [
    "# tokenizer = Anthropic(model=\"claude-3-7-sonnet-latest\").tokenizer\n",
    "# Settings.tokenizer = tokenizer\n",
    "\n",
    "# llm = Anthropic(model=\"claude-3-7-sonnet-latest\")\n",
    "\n",
    "# Settings.llm = llm\n",
    "\n",
    "llm = OpenAI(\n",
    "    model='gpt-4o'\n",
    ")"
   ]
  },
  {
   "cell_type": "code",
   "execution_count": 71,
   "metadata": {},
   "outputs": [],
   "source": [
    "# System prompt for the podcasting engine \n",
    "\n",
    "# Copyright Open-Notebooklm\n",
    "\n",
    "SYSTEM_PROMPT_PODCAST_GENERATION = \"\"\"\n",
    "You are a world-class podcast producer tasked with transforming the provided context into an engaging and informative podcast script. Your goal is to extract the most interesting and insightful content for a compelling podcast discussion.\n",
    "\n",
    "# Steps to Follow:\n",
    "\n",
    "1. **Analyze the Input:**\n",
    "   Carefully examine the provided context, identifying key topics, points, and interesting facts or anecdotes that could drive an engaging podcast conversation. Disregard irrelevant information or formatting issues.\n",
    "\n",
    "2. **Brainstorm Ideas:**\n",
    "   In the scratchpad, creatively brainstorm ways to present the key points engagingly. Consider:\n",
    "   - Analogies, storytelling techniques, or hypothetical scenarios to make content relatable\n",
    "   - Ways to make complex topics accessible to a general audience\n",
    "   - Thought-provoking questions to explore during the podcast\n",
    "   - Creative approaches to fill any gaps in the information\n",
    "\n",
    "3. **Craft the Dialogue:**\n",
    "   Develop a natural, conversational flow between the host (Alicia) and the guest speaker (the author or an expert on the topic). Incorporate:\n",
    "   - The best ideas from your brainstorming session\n",
    "   - Clear explanations of complex topics\n",
    "   - An engaging and lively tone to captivate listeners\n",
    "   - A balance of information and entertainment\n",
    "\n",
    "   Rules for the dialogue:\n",
    "   - The host (Alicia) always initiates the conversation and interviews the guest\n",
    "   - Include thoughtful questions from the host to guide the discussion\n",
    "   - Incorporate natural speech patterns, including occasional verbal fillers (e.g., \"um,\" \"well,\" \"you know\")\n",
    "   - Allow for natural interruptions and back-and-forth between host and guest\n",
    "   - Ensure the guest's responses are substantiated by the input text, avoiding unsupported claims\n",
    "   - Avoid any marketing or self-promotional content from the guest\n",
    "   - The host concludes the conversation\n",
    "\n",
    "4. **Summarize Key Insights:**\n",
    "   Naturally weave a summary of key points into the closing part of the dialogue. This should feel like a casual conversation rather than a formal recap, reinforcing the main takeaways before signing off.\n",
    "\n",
    "5. **Maintain Authenticity:**\n",
    "   Throughout the script, strive for authenticity in the conversation. Include:\n",
    "   - Moments of genuine curiosity or surprise from the host\n",
    "   - Instances where the guest might briefly struggle to articulate a complex idea\n",
    "   - Light-hearted moments or humor when appropriate\n",
    "   - Brief personal anecdotes or examples that relate to the topic (within the bounds of the input text)\n",
    "\n",
    "6. **Consider Pacing and Structure:**\n",
    "   Ensure the dialogue has a natural flow:\n",
    "   - Start with a strong hook to grab the listener's attention\n",
    "   - Gradually build complexity as the conversation progresses\n",
    "   - Include brief \"breather\" moments for listeners to absorb complex information\n",
    "   - End on a high note, perhaps with a thought-provoking question or a call-to-action for listeners\n",
    "\n",
    "IMPORTANT: Always reply given the following format: {structured_output}\n",
    "\"\"\"\n",
    "\n",
    "PODCAST_PROMPT_TEMPLATE = \"\"\"\n",
    "   Generate a podcat script about {topic}. \n",
    "   \n",
    "   This is the context: {context}.\n",
    "\n",
    "   You must return a valid JSON object with both 'scratchpad' and 'podcast_script' fields.\n",
    "   The 'podcast_script' field is required and must have 'title', 'host', 'guest', and 'dialogue' properties.\n",
    "   \n",
    "   Example format:\n",
    "   {structured_output}\n",
    "\"\"\""
   ]
  },
  {
   "cell_type": "code",
   "execution_count": 72,
   "metadata": {},
   "outputs": [],
   "source": [
    "with open('out/summary.txt', 'r') as f:\n",
    "    summary = f.read()"
   ]
  },
  {
   "cell_type": "code",
   "execution_count": null,
   "metadata": {},
   "outputs": [],
   "source": []
  },
  {
   "cell_type": "code",
   "execution_count": 86,
   "metadata": {},
   "outputs": [],
   "source": [
    "message_templates = [\n",
    "    ChatMessage(\n",
    "        role=MessageRole.SYSTEM,\n",
    "        content=SYSTEM_PROMPT_PODCAST_GENERATION,\n",
    "    ),\n",
    "    ChatMessage(\n",
    "        content=PODCAST_PROMPT_TEMPLATE,\n",
    "        role=MessageRole.USER,\n",
    "    )\n",
    "]\n",
    "\n",
    "chat_template = ChatPromptTemplate(message_templates=message_templates)"
   ]
  },
  {
   "cell_type": "code",
   "execution_count": 87,
   "metadata": {},
   "outputs": [],
   "source": [
    "# sllm = llm.as_structured_llm(output_cls=PodcastResponse)\n",
    "\n",
    "# response = sllm.chat(messages=messages)\n",
    "\n",
    "response = llm.structured_predict(\n",
    "    output_cls=PodcastResponse,\n",
    "    prompt=chat_template,\n",
    "    structured_output=PodcastResponse.model_json_schema(),\n",
    "    topic=\"World War II\", \n",
    "    context=summary\n",
    ")"
   ]
  },
  {
   "cell_type": "code",
   "execution_count": 89,
   "metadata": {},
   "outputs": [
    {
     "data": {
      "text/plain": [
       "PodcastScript(title='World War II: A Global Conflict That Shaped Modern History', host='Alicia', guest='Dr. John Smith', dialogue=[{'role': 'host', 'message': \"Hello, everyone, and welcome to today's episode. I'm Alicia, and joining me is Dr. John Smith, a historian specializing in World War II. Dr. Smith, thank you for being here.\"}, {'role': 'guest', 'message': \"Thank you, Alicia. It's a pleasure to be here and discuss such a pivotal moment in history.\"}, {'role': 'host', 'message': 'World War II is often described as the deadliest conflict in human history. Can you give us a sense of its scale and impact?'}, {'role': 'guest', 'message': 'Absolutely. World War II was truly global, involving over 30 countries and resulting in an estimated 70-85 million deaths. It reshaped borders, economies, and societies worldwide.'}, {'role': 'host', 'message': \"The war began with Germany's invasion of Poland in 1939. Can you tell us about the early stages and how the Blitzkrieg tactics played a role?\"}, {'role': 'guest', 'message': \"Certainly. The invasion of Poland was swift and brutal, marking the start of the war. Blitzkrieg, or 'lightning war,' was a strategy that emphasized speed and surprise, allowing Germany to quickly conquer much of Western Europe.\"}, {'role': 'host', 'message': 'And then we have the attack on Pearl Harbor, which brought the United States into the war. How did that change the dynamics?'}, {'role': 'guest', 'message': 'The attack on Pearl Harbor in December 1941 was a turning point. It galvanized the United States, bringing its industrial and military might into the conflict, which was crucial for the Allied powers.'}, {'role': 'host', 'message': \"Let's talk about the technological advancements during the war. How did they change the nature of warfare?\"}, {'role': 'guest', 'message': 'The war saw significant technological innovations, from advanced aircraft and tanks to radar and, ultimately, nuclear weapons. These developments not only changed military tactics but also had lasting impacts on post-war technology.'}, {'role': 'host', 'message': 'The turning points of the war, like Stalingrad and D-Day, were crucial. Can you describe their significance?'}, {'role': 'guest', 'message': 'Stalingrad was a devastating defeat for Germany and marked the beginning of the Soviet push westward. D-Day, on the other hand, opened a new front in Western Europe, leading to the liberation of occupied territories.'}, {'role': 'host', 'message': \"We can't discuss WWII without mentioning the human cost, including the Holocaust. How do we approach such a sensitive topic?\"}, {'role': 'guest', 'message': \"It's important to remember the victims and the atrocities committed. The Holocaust resulted in the systematic murder of six million Jews and millions of others. Acknowledging these events is crucial for understanding the war's full impact.\"}, {'role': 'host', 'message': 'Finally, what were the lasting impacts of World War II on global politics and society?'}, {'role': 'guest', 'message': 'The war led to the formation of the United Nations, accelerated decolonization, and set the stage for the Cold War. Its economic, political, and social impacts are still felt today, influencing international relations and global policies.'}, {'role': 'host', 'message': \"Thank you, Dr. Smith, for sharing your insights. It's clear that World War II continues to shape our world in profound ways. And thank you to our listeners for tuning in. Until next time, stay curious.\"}])"
      ]
     },
     "execution_count": 89,
     "metadata": {},
     "output_type": "execute_result"
    }
   ],
   "source": [
    "response.podcast_script"
   ]
  },
  {
   "cell_type": "code",
   "execution_count": null,
   "metadata": {},
   "outputs": [],
   "source": [
    "import pickle\n",
    "\n",
    "pickle.dump(response, open('out/podcast.pkl', 'wb'))"
   ]
  },
  {
   "cell_type": "code",
   "execution_count": null,
   "metadata": {},
   "outputs": [],
   "source": []
  }
 ],
 "metadata": {
  "kernelspec": {
   "display_name": ".venv",
   "language": "python",
   "name": "python3"
  },
  "language_info": {
   "codemirror_mode": {
    "name": "ipython",
    "version": 3
   },
   "file_extension": ".py",
   "mimetype": "text/x-python",
   "name": "python",
   "nbconvert_exporter": "python",
   "pygments_lexer": "ipython3",
   "version": "3.12.7"
  }
 },
 "nbformat": 4,
 "nbformat_minor": 2
}
