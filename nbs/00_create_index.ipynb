{
 "cells": [
  {
   "cell_type": "code",
   "execution_count": null,
   "metadata": {},
   "outputs": [],
   "source": [
    "# Wikipedia"
   ]
  },
  {
   "cell_type": "code",
   "execution_count": null,
   "metadata": {},
   "outputs": [],
   "source": [
    "import wikipediaapi as wiki"
   ]
  },
  {
   "cell_type": "code",
   "execution_count": null,
   "metadata": {},
   "outputs": [],
   "source": [
    "def get_wikipedia_page_for_topic(topic: str) -> str:\n",
    "    wiki_wiki = wiki.Wikipedia(\n",
    "        user_agent=\"LetHistoryTalk (meyhol@pm.me)\",\n",
    "        language=\"en\",\n",
    "        extract_format=wiki.ExtractFormat.WIKI,\n",
    "    )\n",
    "\n",
    "    page = wiki_wiki.page(topic)\n",
    "\n",
    "    if not page.exists():\n",
    "        raise ValueError(f\"No Wikipedia page found for topic: {topic}\")\n",
    "\n",
    "    return page.text"
   ]
  },
  {
   "cell_type": "code",
   "execution_count": null,
   "metadata": {},
   "outputs": [],
   "source": [
    "## For testing purposes\n",
    "\n",
    "with open(\"out/wikipedia_page.txt\", \"w\") as f:\n",
    "    f.write(get_wikipedia_page_for_topic(\"World War II\"))"
   ]
  },
  {
   "cell_type": "code",
   "execution_count": null,
   "metadata": {},
   "outputs": [],
   "source": []
  }
 ],
 "metadata": {
  "kernelspec": {
   "display_name": "python3",
   "language": "python",
   "name": "python3"
  }
 },
 "nbformat": 4,
 "nbformat_minor": 2
}
