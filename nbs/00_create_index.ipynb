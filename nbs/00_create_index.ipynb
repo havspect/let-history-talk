{
 "cells": [
  {
   "cell_type": "code",
   "execution_count": 1,
   "metadata": {},
   "outputs": [],
   "source": [
    "# Wikipedia"
   ]
  },
  {
   "cell_type": "code",
   "execution_count": 2,
   "metadata": {},
   "outputs": [],
   "source": [
    "import wikipediaapi as wiki"
   ]
  },
  {
   "cell_type": "code",
   "execution_count": 7,
   "metadata": {},
   "outputs": [],
   "source": [
    "def get_wikipedia_page_for_topic(topic: str) -> str:\n",
    "    wiki_wiki = wiki.Wikipedia(\n",
    "        user_agent=\"LetHistoryTalk (meyhol@pm.me)\",\n",
    "        language=\"en\",\n",
    "        extract_format=wiki.ExtractFormat.WIKI,\n",
    "    )\n",
    "\n",
    "    page = wiki_wiki.page(topic)\n",
    "\n",
    "    if not page.exists():\n",
    "        raise ValueError(f\"No Wikipedia page found for topic: {topic}\")\n",
    "\n",
    "    return page.text"
   ]
  },
  {
   "cell_type": "code",
   "execution_count": null,
   "metadata": {},
   "outputs": [],
   "source": [
    "## For testing purposes\n",
    "\n",
    "with open(\"out/wikipedia_page.txt\", \"w\") as f:\n",
    "    f.write(get_wikipedia_page_for_topic(\"World War II\"))"
   ]
  },
  {
   "cell_type": "code",
   "execution_count": null,
   "metadata": {},
   "outputs": [],
   "source": []
  }
 ],
 "metadata": {
  "kernelspec": {
   "display_name": ".venv",
   "language": "python",
   "name": "python3"
  },
  "language_info": {
   "codemirror_mode": {
    "name": "ipython",
    "version": 3
   },
   "file_extension": ".py",
   "mimetype": "text/x-python",
   "name": "python",
   "nbconvert_exporter": "python",
   "pygments_lexer": "ipython3",
   "version": "3.12.7"
  }
 },
 "nbformat": 4,
 "nbformat_minor": 2
}
